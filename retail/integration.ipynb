{
 "cells": [
  {
   "cell_type": "markdown",
   "metadata": {},
   "source": [
    "任务 1.2\n",
    "统计每个大类商品的销售金额。\n"
   ]
  },
  {
   "cell_type": "code",
   "execution_count": 52,
   "metadata": {},
   "outputs": [],
   "source": [
    "import pandas as pd\n",
    "\n",
    "sale = pd.read_csv('/Users/dingjiadong/Desktop/uber/task1_1.csv')\n"
   ]
  },
  {
   "cell_type": "code",
   "execution_count": 53,
   "metadata": {},
   "outputs": [],
   "source": [
    "sale_rst = sale[['大类名称','销售金额']].groupby('大类名称').sum()\n",
    "sale_rst.to_csv('/Users/dingjiadong/Desktop/uber/task1_2.csv')\n"
   ]
  },
  {
   "cell_type": "markdown",
   "metadata": {},
   "source": [
    "任务 1.3 统计每个中类商品的促销销售金额和非促销销售金额 。"
   ]
  },
  {
   "cell_type": "code",
   "execution_count": 54,
   "metadata": {},
   "outputs": [
    {
     "data": {
      "text/html": [
       "<div>\n",
       "<style scoped>\n",
       "    .dataframe tbody tr th:only-of-type {\n",
       "        vertical-align: middle;\n",
       "    }\n",
       "\n",
       "    .dataframe tbody tr th {\n",
       "        vertical-align: top;\n",
       "    }\n",
       "\n",
       "    .dataframe thead th {\n",
       "        text-align: right;\n",
       "    }\n",
       "</style>\n",
       "<table border=\"1\" class=\"dataframe\">\n",
       "  <thead>\n",
       "    <tr style=\"text-align: right;\">\n",
       "      <th></th>\n",
       "      <th></th>\n",
       "      <th>销售金额</th>\n",
       "    </tr>\n",
       "    <tr>\n",
       "      <th>中类名称</th>\n",
       "      <th>是否促销</th>\n",
       "      <th></th>\n",
       "    </tr>\n",
       "  </thead>\n",
       "  <tbody>\n",
       "    <tr>\n",
       "      <th rowspan=\"2\" valign=\"top\">一次性用品</th>\n",
       "      <th>否</th>\n",
       "      <td>727.30</td>\n",
       "    </tr>\n",
       "    <tr>\n",
       "      <th>是</th>\n",
       "      <td>70.90</td>\n",
       "    </tr>\n",
       "    <tr>\n",
       "      <th>不锈钢餐具</th>\n",
       "      <th>否</th>\n",
       "      <td>37.00</td>\n",
       "    </tr>\n",
       "    <tr>\n",
       "      <th>个人卫生用品</th>\n",
       "      <th>否</th>\n",
       "      <td>47.20</td>\n",
       "    </tr>\n",
       "    <tr>\n",
       "      <th>中式熟菜</th>\n",
       "      <th>否</th>\n",
       "      <td>46.48</td>\n",
       "    </tr>\n",
       "    <tr>\n",
       "      <th>...</th>\n",
       "      <th>...</th>\n",
       "      <td>...</td>\n",
       "    </tr>\n",
       "    <tr>\n",
       "      <th rowspan=\"2\" valign=\"top\">鸡产品</th>\n",
       "      <th>否</th>\n",
       "      <td>358.59</td>\n",
       "    </tr>\n",
       "    <tr>\n",
       "      <th>是</th>\n",
       "      <td>2937.85</td>\n",
       "    </tr>\n",
       "    <tr>\n",
       "      <th rowspan=\"2\" valign=\"top\">鸭产品</th>\n",
       "      <th>否</th>\n",
       "      <td>29.39</td>\n",
       "    </tr>\n",
       "    <tr>\n",
       "      <th>是</th>\n",
       "      <td>234.58</td>\n",
       "    </tr>\n",
       "    <tr>\n",
       "      <th>黄酒</th>\n",
       "      <th>否</th>\n",
       "      <td>531.60</td>\n",
       "    </tr>\n",
       "  </tbody>\n",
       "</table>\n",
       "<p>298 rows × 1 columns</p>\n",
       "</div>"
      ],
      "text/plain": [
       "                销售金额\n",
       "中类名称   是否促销         \n",
       "一次性用品  否      727.30\n",
       "       是       70.90\n",
       "不锈钢餐具  否       37.00\n",
       "个人卫生用品 否       47.20\n",
       "中式熟菜   否       46.48\n",
       "...              ...\n",
       "鸡产品    否      358.59\n",
       "       是     2937.85\n",
       "鸭产品    否       29.39\n",
       "       是      234.58\n",
       "黄酒     否      531.60\n",
       "\n",
       "[298 rows x 1 columns]"
      ]
     },
     "execution_count": 54,
     "metadata": {},
     "output_type": "execute_result"
    }
   ],
   "source": [
    "sale_rst3 = sale[['中类名称','是否促销','销售金额']].groupby(by=['中类名称','是否促销']).sum()\n",
    "sale_rst3"
   ]
  },
  {
   "cell_type": "code",
   "execution_count": 55,
   "metadata": {},
   "outputs": [],
   "source": [
    "sale_rst3.to_csv('/Users/dingjiadong/Desktop/uber/task1_3.csv')"
   ]
  },
  {
   "cell_type": "markdown",
   "metadata": {},
   "source": [
    "任务 1.4\n",
    "统计生鲜类产品和一般产品的每周销售金额。"
   ]
  },
  {
   "cell_type": "code",
   "execution_count": 76,
   "metadata": {},
   "outputs": [],
   "source": [
    "import pandas as pd"
   ]
  },
  {
   "cell_type": "code",
   "execution_count": 77,
   "metadata": {},
   "outputs": [],
   "source": [
    "sale = pd.read_csv('/Users/dingjiadong/Desktop/uber/task1_1.csv')\n"
   ]
  },
  {
   "cell_type": "code",
   "execution_count": 78,
   "metadata": {},
   "outputs": [],
   "source": [
    "wk_sale = sale.drop(sale[sale['商品类型'] == '联营商品'].index)"
   ]
  },
  {
   "cell_type": "code",
   "execution_count": 79,
   "metadata": {},
   "outputs": [],
   "source": [
    "wk_sale['销售日期'] = pd.to_datetime(wk_sale['销售日期'], format='%Y%m%d')"
   ]
  },
  {
   "cell_type": "code",
   "execution_count": 80,
   "metadata": {},
   "outputs": [],
   "source": [
    "wk_sale.set_index(wk_sale['销售日期'],inplace=True)"
   ]
  },
  {
   "cell_type": "code",
   "execution_count": 81,
   "metadata": {},
   "outputs": [],
   "source": [
    "wk_sale = wk_sale.groupby([pd.Grouper(freq='W'),'商品类型'])['销售金额'].sum()"
   ]
  },
  {
   "cell_type": "code",
   "execution_count": 82,
   "metadata": {},
   "outputs": [],
   "source": [
    "wk_sale.to_csv('/Users/dingjiadong/Desktop/uber/task1_4.csv')"
   ]
  }
 ],
 "metadata": {
  "kernelspec": {
   "display_name": "Python 3.9.7 ('base')",
   "language": "python",
   "name": "python3"
  },
  "language_info": {
   "codemirror_mode": {
    "name": "ipython",
    "version": 3
   },
   "file_extension": ".py",
   "mimetype": "text/x-python",
   "name": "python",
   "nbconvert_exporter": "python",
   "pygments_lexer": "ipython3",
   "version": "3.9.7"
  },
  "orig_nbformat": 4,
  "vscode": {
   "interpreter": {
    "hash": "a46ad65b1be28e97b5f3696faa9c5f0d450ac8dcd01c7f2dc5791d4c6ef4e317"
   }
  }
 },
 "nbformat": 4,
 "nbformat_minor": 2
}
